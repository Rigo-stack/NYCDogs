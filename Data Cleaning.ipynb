{
 "cells": [
  {
   "cell_type": "code",
   "execution_count": 2,
   "id": "f47d5559",
   "metadata": {},
   "outputs": [],
   "source": [
    "import pandas as pd\n",
    "import numpy as np"
   ]
  },
  {
   "cell_type": "code",
   "execution_count": 5,
   "id": "aecdcde0",
   "metadata": {},
   "outputs": [
    {
     "name": "stderr",
     "output_type": "stream",
     "text": [
      "C:\\Users\\rigob\\AppData\\Local\\Temp\\ipykernel_8076\\647235803.py:2: DtypeWarning: Columns (2) have mixed types. Specify dtype option on import or set low_memory=False.\n",
      "  dog_licenses_df = pd.read_csv('NYC_Dog_Licensing_Dataset_20250605.csv')\n"
     ]
    }
   ],
   "source": [
    "dog_bites_df =pd.read_csv('DOHMH_Dog_Bite_Data_20250605.csv')\n",
    "dog_licenses_df = pd.read_csv('NYC_Dog_Licensing_Dataset_20250605.csv')"
   ]
  },
  {
   "cell_type": "code",
   "execution_count": null,
   "id": "8a8e99a1",
   "metadata": {},
   "outputs": [],
   "source": []
  }
 ],
 "metadata": {
  "kernelspec": {
   "display_name": "dogEDA",
   "language": "python",
   "name": "dogeda"
  },
  "language_info": {
   "codemirror_mode": {
    "name": "ipython",
    "version": 3
   },
   "file_extension": ".py",
   "mimetype": "text/x-python",
   "name": "python",
   "nbconvert_exporter": "python",
   "pygments_lexer": "ipython3",
   "version": "3.13.5"
  }
 },
 "nbformat": 4,
 "nbformat_minor": 5
}
